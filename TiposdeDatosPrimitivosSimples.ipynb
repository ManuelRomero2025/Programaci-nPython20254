{
  "nbformat": 4,
  "nbformat_minor": 0,
  "metadata": {
    "colab": {
      "provenance": [],
      "authorship_tag": "ABX9TyPtwviD3V8Cp+Bvkj77HjMB",
      "include_colab_link": true
    },
    "kernelspec": {
      "name": "python3",
      "display_name": "Python 3"
    },
    "language_info": {
      "name": "python"
    }
  },
  "cells": [
    {
      "cell_type": "markdown",
      "metadata": {
        "id": "view-in-github",
        "colab_type": "text"
      },
      "source": [
        "<a href=\"https://colab.research.google.com/github/ManuelRomero2025/Programaci-nPython20254/blob/main/TiposdeDatosPrimitivosSimples.ipynb\" target=\"_parent\"><img src=\"https://colab.research.google.com/assets/colab-badge.svg\" alt=\"Open In Colab\"/></a>"
      ]
    },
    {
      "cell_type": "markdown",
      "source": [
        "# **Tipos de datos enteros en NumPy**\n",
        "\n",
        "La tabla muestra los tipos de datos enteros en NumPy, según su tamaño en bits, si son con signo (negativos y positivos) o sin signo (solo positivos), y el rango de valores que pueden almacenar.\n",
        "\n",
        "\n",
        "\n",
        "| Tipo     | Bits | Rango de valores                           |\n",
        "| -------- | ---- | ------------------------------------------ |\n",
        "| `int8`   | 8    | -128 a 127                                 |\n",
        "| `int16`  | 16   | -32,768 a 32,767                           |\n",
        "| `int32`  | 32   | -2,147,483,648 a 2,147,483,647             |\n",
        "| `int64`  | 64   | -9.2×10¹⁸ a 9.2×10¹⁸                       |\n",
        "| `uint8`  | 8    | 0 a 255 (sin signo)                        |\n",
        "| `uint16` | 16   | 0 a 65,535 (sin signo)                     |\n",
        "| `uint32` | 32   | 0 a 4,294,967,295 (sin signo)              |\n",
        "| `uint64` | 64   | 0 a 18,446,744,073,709,551,615 (sin signo) |\n"
      ],
      "metadata": {
        "id": "BqCBm1omcHOz"
      }
    },
    {
      "cell_type": "code",
      "source": [
        "import numpy as np\n",
        "datos=np.array([12, 23, 46, 45])\n",
        "datos.dtype"
      ],
      "metadata": {
        "colab": {
          "base_uri": "https://localhost:8080/"
        },
        "id": "60Y3NXvocMiN",
        "outputId": "0f6aa22b-01e9-48d2-d085-c691ea625daf"
      },
      "execution_count": 8,
      "outputs": [
        {
          "output_type": "execute_result",
          "data": {
            "text/plain": [
              "dtype('int64')"
            ]
          },
          "metadata": {},
          "execution_count": 8
        }
      ]
    },
    {
      "cell_type": "code",
      "source": [
        "datosUno=np.array([12, -23, 46, 45], dtype='float64')\n",
        "datosUno.dtype"
      ],
      "metadata": {
        "colab": {
          "base_uri": "https://localhost:8080/"
        },
        "id": "A9Atv3BHyNA0",
        "outputId": "65d9bd29-ee09-4224-d57d-20e0109c4b36"
      },
      "execution_count": 17,
      "outputs": [
        {
          "output_type": "execute_result",
          "data": {
            "text/plain": [
              "dtype('float64')"
            ]
          },
          "metadata": {},
          "execution_count": 17
        }
      ]
    },
    {
      "cell_type": "code",
      "source": [
        "print(datosUno)"
      ],
      "metadata": {
        "colab": {
          "base_uri": "https://localhost:8080/"
        },
        "id": "fVmTz_35ybLz",
        "outputId": "77e6c04f-5538-41e9-a060-468bc51006d1"
      },
      "execution_count": 15,
      "outputs": [
        {
          "output_type": "stream",
          "name": "stdout",
          "text": [
            "[ 12. -23.  46.  45.]\n"
          ]
        }
      ]
    },
    {
      "cell_type": "markdown",
      "source": [
        "# Listas [lista]\n",
        "\n",
        "Mutable=se puede modificar (Agregar, eliminar, sustituir)"
      ],
      "metadata": {
        "id": "53BqEusNzazE"
      }
    },
    {
      "cell_type": "code",
      "source": [
        "Lista=[12, 24, 26, 30, 32, 34]\n",
        "np.array(Lista)"
      ],
      "metadata": {
        "colab": {
          "base_uri": "https://localhost:8080/"
        },
        "id": "ioqVRlFxzoQ8",
        "outputId": "7349270d-c56b-4a39-8f7c-488534b3f864"
      },
      "execution_count": 21,
      "outputs": [
        {
          "output_type": "execute_result",
          "data": {
            "text/plain": [
              "array([12, 24, 26, 30, 32, 34])"
            ]
          },
          "metadata": {},
          "execution_count": 21
        }
      ]
    },
    {
      "cell_type": "code",
      "source": [
        "Lista[0]=80\n",
        "Lista[3]=100\n",
        "print(Lista)"
      ],
      "metadata": {
        "colab": {
          "base_uri": "https://localhost:8080/"
        },
        "id": "ZdgXrUpV0LY9",
        "outputId": "00df80e5-a059-4625-c7cc-dd2c391d5312"
      },
      "execution_count": 22,
      "outputs": [
        {
          "output_type": "stream",
          "name": "stdout",
          "text": [
            "[80, 24, 26, 100, 32, 34]\n"
          ]
        }
      ]
    },
    {
      "cell_type": "code",
      "source": [
        "A=[1,2,3,4,5]\n",
        "B=[6,7,8,9,10]\n",
        "A+B"
      ],
      "metadata": {
        "colab": {
          "base_uri": "https://localhost:8080/"
        },
        "id": "vcLNVoH80m7j",
        "outputId": "f9fb75e0-20b0-45cc-e660-259a9aabe08c"
      },
      "execution_count": 26,
      "outputs": [
        {
          "output_type": "execute_result",
          "data": {
            "text/plain": [
              "[1, 2, 3, 4, 5, 6, 7, 8, 9, 10]"
            ]
          },
          "metadata": {},
          "execution_count": 26
        }
      ]
    },
    {
      "cell_type": "code",
      "source": [
        "C=np.array([12, 24, 36, 48])\n",
        "D=np.array([2,3,4,5])\n",
        "C+D"
      ],
      "metadata": {
        "colab": {
          "base_uri": "https://localhost:8080/"
        },
        "id": "R9vJ1fZz1SRw",
        "outputId": "165ac6fe-7357-4d7a-d223-ff08e4441f83"
      },
      "execution_count": 28,
      "outputs": [
        {
          "output_type": "execute_result",
          "data": {
            "text/plain": [
              "array([14, 27, 40, 53])"
            ]
          },
          "metadata": {},
          "execution_count": 28
        }
      ]
    },
    {
      "cell_type": "markdown",
      "source": [
        "## tuplas (tuplas)\n",
        "\n",
        "* Inmutable: no pueden alterarse durante la ejecución de un programa.\n"
      ],
      "metadata": {
        "id": "QvWfHoMB1yic"
      }
    },
    {
      "cell_type": "code",
      "source": [
        "tuplas=(12,14,16,18,10)\n",
        "print(tuplas)"
      ],
      "metadata": {
        "colab": {
          "base_uri": "https://localhost:8080/"
        },
        "id": "7jyA8irP2JRW",
        "outputId": "52e81b20-bb75-4c51-d2d9-8d47e6b09865"
      },
      "execution_count": 29,
      "outputs": [
        {
          "output_type": "stream",
          "name": "stdout",
          "text": [
            "(12, 14, 16, 18, 10)\n"
          ]
        }
      ]
    },
    {
      "cell_type": "code",
      "source": [
        " #tuplas[3]=17 No se puede modificart ya que es una tupla"
      ],
      "metadata": {
        "id": "jubLwUCB2Q-h"
      },
      "execution_count": 31,
      "outputs": []
    },
    {
      "cell_type": "code",
      "source": [
        "tuplaUno=np.array(tuplas)\n",
        "tuplaUno[2]=20\n",
        "print(tuplaUno)"
      ],
      "metadata": {
        "colab": {
          "base_uri": "https://localhost:8080/"
        },
        "id": "9fqsAaKB2oo-",
        "outputId": "08d7b16e-93a6-4bba-90db-c142c3692d5f"
      },
      "execution_count": 35,
      "outputs": [
        {
          "output_type": "stream",
          "name": "stdout",
          "text": [
            "[12 14 20 18 10]\n"
          ]
        }
      ]
    },
    {
      "cell_type": "code",
      "source": [
        "tuplaA=[12, 13, 14, 15]\n",
        "tuplaB=[2,3,4,5]\n",
        "tuplaA+tuplaB"
      ],
      "metadata": {
        "colab": {
          "base_uri": "https://localhost:8080/"
        },
        "id": "_xLc8mRT3UUS",
        "outputId": "fff72a73-94a4-41c6-fadd-aff631da8e80"
      },
      "execution_count": 36,
      "outputs": [
        {
          "output_type": "execute_result",
          "data": {
            "text/plain": [
              "[12, 13, 14, 15, 2, 3, 4, 5]"
            ]
          },
          "metadata": {},
          "execution_count": 36
        }
      ]
    },
    {
      "cell_type": "code",
      "source": [
        "np.array(tuplaA)+np.array(tuplaB)"
      ],
      "metadata": {
        "colab": {
          "base_uri": "https://localhost:8080/"
        },
        "id": "PHByyYeX3oty",
        "outputId": "18864076-6a2e-45fe-b21d-6bab887deb54"
      },
      "execution_count": 41,
      "outputs": [
        {
          "output_type": "execute_result",
          "data": {
            "text/plain": [
              "array([14, 16, 18, 20])"
            ]
          },
          "metadata": {},
          "execution_count": 41
        }
      ]
    },
    {
      "cell_type": "code",
      "source": [
        "#Tupla a lista\n",
        "list((12,24,25))"
      ],
      "metadata": {
        "colab": {
          "base_uri": "https://localhost:8080/"
        },
        "id": "hZqbg_CI4J5d",
        "outputId": "8b1b9bd2-69c2-4f21-afde-12e0034420a2"
      },
      "execution_count": 42,
      "outputs": [
        {
          "output_type": "execute_result",
          "data": {
            "text/plain": [
              "[12, 24, 25]"
            ]
          },
          "metadata": {},
          "execution_count": 42
        }
      ]
    },
    {
      "cell_type": "code",
      "source": [
        "#lista a Tupla\n",
        "tuple([12, 13, 15, 15])"
      ],
      "metadata": {
        "colab": {
          "base_uri": "https://localhost:8080/"
        },
        "id": "jfpMzjD74RkA",
        "outputId": "c8c707da-5843-4c35-a7ac-281f2713b8fd"
      },
      "execution_count": 43,
      "outputs": [
        {
          "output_type": "execute_result",
          "data": {
            "text/plain": [
              "(12, 13, 15, 15)"
            ]
          },
          "metadata": {},
          "execution_count": 43
        }
      ]
    },
    {
      "cell_type": "code",
      "source": [
        "#array a lista\n",
        "ar1=np.array([12, 13, 15, 15])\n",
        "ar1.tolist()"
      ],
      "metadata": {
        "colab": {
          "base_uri": "https://localhost:8080/"
        },
        "id": "O5UMdCJ14aa5",
        "outputId": "320b981c-fe1a-4d6a-8940-2c4eb0888e8c"
      },
      "execution_count": 44,
      "outputs": [
        {
          "output_type": "execute_result",
          "data": {
            "text/plain": [
              "[12, 13, 15, 15]"
            ]
          },
          "metadata": {},
          "execution_count": 44
        }
      ]
    },
    {
      "cell_type": "markdown",
      "source": [
        "# **Diccionario {dict}**\n",
        "\n",
        "\n"
      ],
      "metadata": {
        "id": "ivB8g0Tg4_Ot"
      }
    },
    {
      "cell_type": "code",
      "source": [
        "valorUno={\"Colombia\":20.56, \"Perú\":21.8, \"Argentina\": 23.5}\n",
        "print(valorUno)"
      ],
      "metadata": {
        "colab": {
          "base_uri": "https://localhost:8080/"
        },
        "id": "qc9WagYZ5LlK",
        "outputId": "feded7ad-425c-430e-9640-f58a117bdfa0"
      },
      "execution_count": 59,
      "outputs": [
        {
          "output_type": "stream",
          "name": "stdout",
          "text": [
            "{'Colombia': 20.56, 'Perú': 21.8, 'Argentina': 23.5}\n"
          ]
        }
      ]
    },
    {
      "cell_type": "code",
      "source": [
        "arrayDic=np.array(list(valorUno.values()))\n",
        "print(arrayDic)\n"
      ],
      "metadata": {
        "colab": {
          "base_uri": "https://localhost:8080/"
        },
        "id": "vSwiqIi15mCG",
        "outputId": "f61a4197-6403-42af-e98e-a0c88bdf7c51"
      },
      "execution_count": 63,
      "outputs": [
        {
          "output_type": "stream",
          "name": "stdout",
          "text": [
            "[20.56 21.8  23.5 ]\n"
          ]
        }
      ]
    },
    {
      "cell_type": "code",
      "source": [
        "print(arrayDic*2)\n"
      ],
      "metadata": {
        "colab": {
          "base_uri": "https://localhost:8080/"
        },
        "id": "kG-ELXeb7X2M",
        "outputId": "9b8f1e22-4d79-4852-cebd-48437b2458ea"
      },
      "execution_count": 62,
      "outputs": [
        {
          "output_type": "stream",
          "name": "stdout",
          "text": [
            "[41.12 43.6  47.  ]\n"
          ]
        }
      ]
    },
    {
      "cell_type": "code",
      "source": [
        "valorUno[\"Colombia\"]"
      ],
      "metadata": {
        "colab": {
          "base_uri": "https://localhost:8080/"
        },
        "id": "BmUDt5xG6Tgm",
        "outputId": "27792269-15bb-40d3-ea16-2840a46744f3"
      },
      "execution_count": 67,
      "outputs": [
        {
          "output_type": "execute_result",
          "data": {
            "text/plain": [
              "61.67999999999999"
            ]
          },
          "metadata": {},
          "execution_count": 67
        }
      ]
    },
    {
      "cell_type": "markdown",
      "source": [
        "# **Operaciones Lógicas**\n",
        "\n",
        "* False\n",
        "* True\n"
      ],
      "metadata": {
        "id": "6S4b6AxV7xoI"
      }
    },
    {
      "cell_type": "code",
      "source": [
        "a=np.array([0,5,10, 30, 100])\n",
        "print(a>10) #mayores"
      ],
      "metadata": {
        "colab": {
          "base_uri": "https://localhost:8080/"
        },
        "id": "PXtkDhzM8IIl",
        "outputId": "5a2dae85-750a-437c-9f40-6917c6287f18"
      },
      "execution_count": 68,
      "outputs": [
        {
          "output_type": "stream",
          "name": "stdout",
          "text": [
            "[False False False  True  True]\n"
          ]
        }
      ]
    },
    {
      "cell_type": "code",
      "source": [
        "print(a>=10) #mayores que"
      ],
      "metadata": {
        "colab": {
          "base_uri": "https://localhost:8080/"
        },
        "id": "Joa_Nhfh8gHm",
        "outputId": "04ef8616-24b0-459b-e01e-cd8e171c9e54"
      },
      "execution_count": 69,
      "outputs": [
        {
          "output_type": "stream",
          "name": "stdout",
          "text": [
            "[False False  True  True  True]\n"
          ]
        }
      ]
    },
    {
      "cell_type": "code",
      "source": [
        "print(a<30) #menore"
      ],
      "metadata": {
        "colab": {
          "base_uri": "https://localhost:8080/"
        },
        "id": "_g89l6YR8l3F",
        "outputId": "518962ea-6bfb-4117-c155-b99eb3fcb283"
      },
      "execution_count": 70,
      "outputs": [
        {
          "output_type": "stream",
          "name": "stdout",
          "text": [
            "[ True  True  True False False]\n"
          ]
        }
      ]
    },
    {
      "cell_type": "code",
      "source": [
        "print(a<=30) #menores que"
      ],
      "metadata": {
        "colab": {
          "base_uri": "https://localhost:8080/"
        },
        "id": "x3AzErcX8qf_",
        "outputId": "cc9c36f5-f51b-49cd-8fc2-7310a61a72a4"
      },
      "execution_count": 71,
      "outputs": [
        {
          "output_type": "stream",
          "name": "stdout",
          "text": [
            "[ True  True  True  True False]\n"
          ]
        }
      ]
    },
    {
      "cell_type": "code",
      "source": [
        "print(a==100)# identicos"
      ],
      "metadata": {
        "colab": {
          "base_uri": "https://localhost:8080/"
        },
        "id": "B-jB1tys8tMw",
        "outputId": "d1471215-dfe4-4b54-bf42-c668acf8cf5e"
      },
      "execution_count": 74,
      "outputs": [
        {
          "output_type": "stream",
          "name": "stdout",
          "text": [
            "[False False False False  True]\n"
          ]
        }
      ]
    },
    {
      "cell_type": "code",
      "source": [
        "print(a!=30) #Diferentes"
      ],
      "metadata": {
        "colab": {
          "base_uri": "https://localhost:8080/"
        },
        "id": "WkKLRRfS89Jo",
        "outputId": "83975776-30bb-45b4-b1f1-7476eca77415"
      },
      "execution_count": 75,
      "outputs": [
        {
          "output_type": "stream",
          "name": "stdout",
          "text": [
            "[ True  True  True False  True]\n"
          ]
        }
      ]
    },
    {
      "cell_type": "code",
      "source": [
        "arrayB=np.linspace(0,200, 30)\n",
        "print(arrayB)"
      ],
      "metadata": {
        "colab": {
          "base_uri": "https://localhost:8080/"
        },
        "id": "6De-nzwv-AbF",
        "outputId": "90d0da1d-6478-4b33-b42e-e10c0bad237f"
      },
      "execution_count": 77,
      "outputs": [
        {
          "output_type": "stream",
          "name": "stdout",
          "text": [
            "[  0.           6.89655172  13.79310345  20.68965517  27.5862069\n",
            "  34.48275862  41.37931034  48.27586207  55.17241379  62.06896552\n",
            "  68.96551724  75.86206897  82.75862069  89.65517241  96.55172414\n",
            " 103.44827586 110.34482759 117.24137931 124.13793103 131.03448276\n",
            " 137.93103448 144.82758621 151.72413793 158.62068966 165.51724138\n",
            " 172.4137931  179.31034483 186.20689655 193.10344828 200.        ]\n"
          ]
        }
      ]
    },
    {
      "cell_type": "code",
      "source": [
        "print((arrayB>=20) & (arrayB<=100))"
      ],
      "metadata": {
        "colab": {
          "base_uri": "https://localhost:8080/"
        },
        "id": "KHD1e4-s-0b8",
        "outputId": "34e568e7-4f43-4959-8d18-6d82a742dfa1"
      },
      "execution_count": 78,
      "outputs": [
        {
          "output_type": "stream",
          "name": "stdout",
          "text": [
            "[False False False  True  True  True  True  True  True  True  True  True\n",
            "  True  True  True False False False False False False False False False\n",
            " False False False False False False]\n"
          ]
        }
      ]
    },
    {
      "cell_type": "code",
      "source": [
        "print((arrayB>=20) | (arrayB<=100))"
      ],
      "metadata": {
        "colab": {
          "base_uri": "https://localhost:8080/"
        },
        "id": "MU29k5qA_FL-",
        "outputId": "730604d3-daad-4de8-fd76-70687e00a704"
      },
      "execution_count": 79,
      "outputs": [
        {
          "output_type": "stream",
          "name": "stdout",
          "text": [
            "[ True  True  True  True  True  True  True  True  True  True  True  True\n",
            "  True  True  True  True  True  True  True  True  True  True  True  True\n",
            "  True  True  True  True  True  True]\n"
          ]
        }
      ]
    },
    {
      "cell_type": "markdown",
      "source": [
        "# **Operaciones especiales lógicas**\n",
        "\n",
        "\n"
      ],
      "metadata": {
        "id": "EqqLhhqO_Yhz"
      }
    },
    {
      "cell_type": "code",
      "source": [
        "print(np.all(arrayB>=30))# Devolver los true si todos los elementos cumples"
      ],
      "metadata": {
        "colab": {
          "base_uri": "https://localhost:8080/"
        },
        "id": "4zwKCi24_h2i",
        "outputId": "767deb05-31dc-4b9e-9b88-ff728577de1b"
      },
      "execution_count": 82,
      "outputs": [
        {
          "output_type": "stream",
          "name": "stdout",
          "text": [
            "False\n"
          ]
        }
      ]
    },
    {
      "cell_type": "code",
      "source": [
        "print(np.any(arrayB>=30))# Devolver los true si alguno de los elementos"
      ],
      "metadata": {
        "colab": {
          "base_uri": "https://localhost:8080/"
        },
        "id": "a0BTRqSg_645",
        "outputId": "2f527ec5-4903-4439-ef1e-cc1d512e54a3"
      },
      "execution_count": 83,
      "outputs": [
        {
          "output_type": "stream",
          "name": "stdout",
          "text": [
            "True\n"
          ]
        }
      ]
    },
    {
      "cell_type": "code",
      "source": [
        "print(np.where(arrayB!=0))#Devuelve los indice o posición de la condición verdadera"
      ],
      "metadata": {
        "colab": {
          "base_uri": "https://localhost:8080/"
        },
        "id": "2qJ4OwiEAN5P",
        "outputId": "e2d68848-c7a0-40a5-9700-6c70b9775a40"
      },
      "execution_count": 88,
      "outputs": [
        {
          "output_type": "stream",
          "name": "stdout",
          "text": [
            "(array([ 1,  2,  3,  4,  5,  6,  7,  8,  9, 10, 11, 12, 13, 14, 15, 16, 17,\n",
            "       18, 19, 20, 21, 22, 23, 24, 25, 26, 27, 28, 29]),)\n"
          ]
        }
      ]
    },
    {
      "cell_type": "markdown",
      "source": [
        "# **Secuencias de Datos**"
      ],
      "metadata": {
        "id": "dUK-h6snBd-0"
      }
    },
    {
      "cell_type": "code",
      "source": [
        "A=np.linspace(0,100, 40) # (min, max, secuencia)\n",
        "A"
      ],
      "metadata": {
        "colab": {
          "base_uri": "https://localhost:8080/"
        },
        "id": "t3XwEDhBBjlK",
        "outputId": "5b288542-8474-4b3d-acaa-0196b25fbe8b"
      },
      "execution_count": 101,
      "outputs": [
        {
          "output_type": "execute_result",
          "data": {
            "text/plain": [
              "array([  0.        ,   2.56410256,   5.12820513,   7.69230769,\n",
              "        10.25641026,  12.82051282,  15.38461538,  17.94871795,\n",
              "        20.51282051,  23.07692308,  25.64102564,  28.20512821,\n",
              "        30.76923077,  33.33333333,  35.8974359 ,  38.46153846,\n",
              "        41.02564103,  43.58974359,  46.15384615,  48.71794872,\n",
              "        51.28205128,  53.84615385,  56.41025641,  58.97435897,\n",
              "        61.53846154,  64.1025641 ,  66.66666667,  69.23076923,\n",
              "        71.79487179,  74.35897436,  76.92307692,  79.48717949,\n",
              "        82.05128205,  84.61538462,  87.17948718,  89.74358974,\n",
              "        92.30769231,  94.87179487,  97.43589744, 100.        ])"
            ]
          },
          "metadata": {},
          "execution_count": 101
        }
      ]
    },
    {
      "cell_type": "code",
      "source": [
        "B=np.arange(0, 40,5) #(min, max, pasos)\n",
        "print(B)"
      ],
      "metadata": {
        "colab": {
          "base_uri": "https://localhost:8080/"
        },
        "id": "neVWxSEzB5cE",
        "outputId": "527d7c32-7174-4a33-c6bb-f10a0379da6e"
      },
      "execution_count": 105,
      "outputs": [
        {
          "output_type": "stream",
          "name": "stdout",
          "text": [
            "[ 0  5 10 15 20 25 30 35]\n"
          ]
        }
      ]
    },
    {
      "cell_type": "code",
      "source": [
        "arr=np.full((5,3), 1)\n",
        "print(arr)"
      ],
      "metadata": {
        "colab": {
          "base_uri": "https://localhost:8080/"
        },
        "id": "YvbQKAV5CkWK",
        "outputId": "dcc41ff9-a650-42de-8453-987e6ad058b4"
      },
      "execution_count": 111,
      "outputs": [
        {
          "output_type": "stream",
          "name": "stdout",
          "text": [
            "[[1 1 1]\n",
            " [1 1 1]\n",
            " [1 1 1]\n",
            " [1 1 1]\n",
            " [1 1 1]]\n"
          ]
        }
      ]
    },
    {
      "cell_type": "code",
      "source": [
        "ran=np.random.rand(4,5) # 4 filas y 5 columnas\n",
        "print(ran)"
      ],
      "metadata": {
        "colab": {
          "base_uri": "https://localhost:8080/"
        },
        "id": "df9qoO0nC64n",
        "outputId": "ead39fba-591b-43a5-c5f6-d4e73055f1c9"
      },
      "execution_count": 114,
      "outputs": [
        {
          "output_type": "stream",
          "name": "stdout",
          "text": [
            "[[0.99463616 0.82119101 0.46395817 0.94148449 0.37622924]\n",
            " [0.81452826 0.85078562 0.0701249  0.7228105  0.04303246]\n",
            " [0.2471261  0.67484036 0.90073874 0.85907002 0.16326711]\n",
            " [0.04505009 0.0786156  0.68099406 0.28542981 0.50497445]]\n"
          ]
        }
      ]
    },
    {
      "cell_type": "code",
      "source": [
        "ran1=np.random.randint(10000,size=(4,5))\n",
        "print(ran1)"
      ],
      "metadata": {
        "colab": {
          "base_uri": "https://localhost:8080/"
        },
        "id": "3iNmuhBfDVnM",
        "outputId": "101b76f3-5c45-4bd5-b82f-366eb049a450"
      },
      "execution_count": 119,
      "outputs": [
        {
          "output_type": "stream",
          "name": "stdout",
          "text": [
            "[[6061 1906 8826  943 7477]\n",
            " [ 927 5304 9679 3606 8323]\n",
            " [ 816 8159 3430 9529 1129]\n",
            " [3269 6463 6976 4205 7977]]\n"
          ]
        }
      ]
    }
  ]
}