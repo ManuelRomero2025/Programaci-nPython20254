{
  "nbformat": 4,
  "nbformat_minor": 0,
  "metadata": {
    "colab": {
      "provenance": [],
      "authorship_tag": "ABX9TyNsNrLRhSI/bpKgaky2ofUQ",
      "include_colab_link": true
    },
    "kernelspec": {
      "name": "python3",
      "display_name": "Python 3"
    },
    "language_info": {
      "name": "python"
    }
  },
  "cells": [
    {
      "cell_type": "markdown",
      "metadata": {
        "id": "view-in-github",
        "colab_type": "text"
      },
      "source": [
        "<a href=\"https://colab.research.google.com/github/ManuelRomero2025/Programaci-nPython20254/blob/main/Clasefull_300820252.ipynb\" target=\"_parent\"><img src=\"https://colab.research.google.com/assets/colab-badge.svg\" alt=\"Open In Colab\"/></a>"
      ]
    },
    {
      "cell_type": "markdown",
      "source": [
        "**Escalar: un número**"
      ],
      "metadata": {
        "id": "ByqoatIGPt7v"
      }
    },
    {
      "cell_type": "code",
      "source": [
        "import numpy as np\n",
        "import pandas as pd"
      ],
      "metadata": {
        "id": "OLdbOZ_unuZT"
      },
      "execution_count": null,
      "outputs": []
    },
    {
      "cell_type": "code",
      "execution_count": null,
      "metadata": {
        "id": "8-wlWZXIBbvo"
      },
      "outputs": [],
      "source": [
        "#escalar\n",
        "a=10.\n",
        "b=8\n",
        "c=-10\n"
      ]
    },
    {
      "cell_type": "code",
      "source": [
        "np.ndim(a)"
      ],
      "metadata": {
        "colab": {
          "base_uri": "https://localhost:8080/"
        },
        "id": "bPP2bEC0Uy2x",
        "outputId": "4dcb0a4f-7ee2-4e35-8a21-64206f796795"
      },
      "execution_count": null,
      "outputs": [
        {
          "output_type": "execute_result",
          "data": {
            "text/plain": [
              "0"
            ]
          },
          "metadata": {},
          "execution_count": 15
        }
      ]
    },
    {
      "cell_type": "code",
      "source": [
        "x=a+b\n",
        "print(x)"
      ],
      "metadata": {
        "colab": {
          "base_uri": "https://localhost:8080/"
        },
        "id": "dyQtX7lXQdW_",
        "outputId": "7d8aedd1-c27f-4d94-856c-b999d679948f"
      },
      "execution_count": null,
      "outputs": [
        {
          "output_type": "stream",
          "name": "stdout",
          "text": [
            "18.0\n"
          ]
        }
      ]
    },
    {
      "cell_type": "markdown",
      "source": [
        "**Matriz**"
      ],
      "metadata": {
        "id": "CqJqIkEiRTVh"
      }
    },
    {
      "cell_type": "code",
      "source": [
        "import numpy as np\n",
        "#vector\n",
        "Vector=np.array([12,12. ,24,25.,26,14,14,15.,16])\n",
        "print(Vector)"
      ],
      "metadata": {
        "colab": {
          "base_uri": "https://localhost:8080/"
        },
        "id": "sEZM6Ip9RVmA",
        "outputId": "d137212d-5cdf-47fb-8719-f7bea27882dd"
      },
      "execution_count": null,
      "outputs": [
        {
          "output_type": "stream",
          "name": "stdout",
          "text": [
            "[12. 12. 24. 25. 26. 14. 14. 15. 16.]\n"
          ]
        }
      ]
    },
    {
      "cell_type": "code",
      "source": [
        "np.shape(Vector)"
      ],
      "metadata": {
        "colab": {
          "base_uri": "https://localhost:8080/"
        },
        "id": "Mw2Dm2yjSY8o",
        "outputId": "ab0c9c88-620e-4c7a-d9d3-90d4edec8477"
      },
      "execution_count": null,
      "outputs": [
        {
          "output_type": "execute_result",
          "data": {
            "text/plain": [
              "(9,)"
            ]
          },
          "metadata": {},
          "execution_count": 5
        }
      ]
    },
    {
      "cell_type": "code",
      "source": [
        "np.ndim(Vector)"
      ],
      "metadata": {
        "colab": {
          "base_uri": "https://localhost:8080/"
        },
        "id": "ZSBNxV7iUqEw",
        "outputId": "6e85031e-6759-49cc-8edf-6d9a48125d69"
      },
      "execution_count": null,
      "outputs": [
        {
          "output_type": "execute_result",
          "data": {
            "text/plain": [
              "1"
            ]
          },
          "metadata": {},
          "execution_count": 14
        }
      ]
    },
    {
      "cell_type": "code",
      "source": [
        "#matriz\n",
        "Matriz=np.array([[10,12,13],[24,25,26],[37,38,0]])\n",
        "print(Matriz)"
      ],
      "metadata": {
        "colab": {
          "base_uri": "https://localhost:8080/"
        },
        "id": "g3iuxu31Su74",
        "outputId": "f6e1d23b-b5e6-4da6-d065-201f12a8ec68"
      },
      "execution_count": null,
      "outputs": [
        {
          "output_type": "stream",
          "name": "stdout",
          "text": [
            "[[10 12 13]\n",
            " [24 25 26]\n",
            " [37 38  0]]\n"
          ]
        }
      ]
    },
    {
      "cell_type": "code",
      "source": [
        "np.shape(Matriz)"
      ],
      "metadata": {
        "colab": {
          "base_uri": "https://localhost:8080/"
        },
        "id": "PMNQ6_WOTfhn",
        "outputId": "ed9a5058-cfc4-4012-c240-a7b60e9a614c"
      },
      "execution_count": null,
      "outputs": [
        {
          "output_type": "execute_result",
          "data": {
            "text/plain": [
              "(3, 3)"
            ]
          },
          "metadata": {},
          "execution_count": 11
        }
      ]
    },
    {
      "cell_type": "code",
      "source": [
        "# Dimensión\n",
        "np.ndim(Matriz)"
      ],
      "metadata": {
        "colab": {
          "base_uri": "https://localhost:8080/"
        },
        "id": "gp7s2rjoUQLw",
        "outputId": "12462d46-0132-464b-b65f-e45d306efb03"
      },
      "execution_count": null,
      "outputs": [
        {
          "output_type": "execute_result",
          "data": {
            "text/plain": [
              "2"
            ]
          },
          "metadata": {},
          "execution_count": 12
        }
      ]
    },
    {
      "cell_type": "code",
      "source": [
        "Matriz1=np.array([[[12,13,15],[22,23,24]],\n",
        "                   [[33,34,35],[36,37,38]],\n",
        "                 [[42,43,44],[45,46,47]]])\n",
        "print(Matriz1)"
      ],
      "metadata": {
        "colab": {
          "base_uri": "https://localhost:8080/"
        },
        "id": "pbVMyjhRVEAY",
        "outputId": "cfc44296-046d-47b2-9eb2-3a6bc9e0fbe5"
      },
      "execution_count": null,
      "outputs": [
        {
          "output_type": "stream",
          "name": "stdout",
          "text": [
            "[[[12 13 15]\n",
            "  [22 23 24]]\n",
            "\n",
            " [[33 34 35]\n",
            "  [36 37 38]]\n",
            "\n",
            " [[42 43 44]\n",
            "  [45 46 47]]]\n"
          ]
        }
      ]
    },
    {
      "cell_type": "code",
      "source": [
        "np.shape(Matriz1)"
      ],
      "metadata": {
        "colab": {
          "base_uri": "https://localhost:8080/"
        },
        "id": "kYR-vISiWfsQ",
        "outputId": "b8c2b3b2-9c86-4e65-a842-180bf34b2beb"
      },
      "execution_count": null,
      "outputs": [
        {
          "output_type": "execute_result",
          "data": {
            "text/plain": [
              "(3, 2, 3)"
            ]
          },
          "metadata": {},
          "execution_count": 20
        }
      ]
    },
    {
      "cell_type": "code",
      "source": [
        "np.ndim(Matriz1)"
      ],
      "metadata": {
        "colab": {
          "base_uri": "https://localhost:8080/"
        },
        "id": "3r6aLO-hWyng",
        "outputId": "d26a373f-a38f-4e3b-d556-377c9227015f"
      },
      "execution_count": null,
      "outputs": [
        {
          "output_type": "execute_result",
          "data": {
            "text/plain": [
              "3"
            ]
          },
          "metadata": {},
          "execution_count": 21
        }
      ]
    },
    {
      "cell_type": "code",
      "source": [
        "Matriz1[0]"
      ],
      "metadata": {
        "colab": {
          "base_uri": "https://localhost:8080/"
        },
        "id": "B-eroP1pW7OR",
        "outputId": "ff5123c7-da95-42cc-84d8-f3d7aaa199df"
      },
      "execution_count": null,
      "outputs": [
        {
          "output_type": "execute_result",
          "data": {
            "text/plain": [
              "array([[12, 13, 15],\n",
              "       [22, 23, 24]])"
            ]
          },
          "metadata": {},
          "execution_count": 22
        }
      ]
    },
    {
      "cell_type": "code",
      "source": [
        "Matriz1[1]"
      ],
      "metadata": {
        "colab": {
          "base_uri": "https://localhost:8080/"
        },
        "id": "XC-OY9UqXE86",
        "outputId": "a5937d01-ad5a-4928-d39c-1157cf5c627f"
      },
      "execution_count": null,
      "outputs": [
        {
          "output_type": "execute_result",
          "data": {
            "text/plain": [
              "array([[33, 34, 35],\n",
              "       [36, 37, 38]])"
            ]
          },
          "metadata": {},
          "execution_count": 27
        }
      ]
    },
    {
      "cell_type": "code",
      "source": [
        "Matriz1[2]"
      ],
      "metadata": {
        "colab": {
          "base_uri": "https://localhost:8080/"
        },
        "id": "Xpc7P6XlXPSp",
        "outputId": "bfa2540c-ffde-4991-a092-2da62c90e38d"
      },
      "execution_count": null,
      "outputs": [
        {
          "output_type": "execute_result",
          "data": {
            "text/plain": [
              "array([45, 46, 47])"
            ]
          },
          "metadata": {},
          "execution_count": 29
        }
      ]
    },
    {
      "cell_type": "code",
      "source": [
        "Matriz1[0][0]"
      ],
      "metadata": {
        "colab": {
          "base_uri": "https://localhost:8080/"
        },
        "id": "a5KLU_UEYBjw",
        "outputId": "fa9a2517-c30e-43fe-fdd7-121133f51d9e"
      },
      "execution_count": null,
      "outputs": [
        {
          "output_type": "execute_result",
          "data": {
            "text/plain": [
              "array([12, 13, 15])"
            ]
          },
          "metadata": {},
          "execution_count": 30
        }
      ]
    },
    {
      "cell_type": "code",
      "source": [
        "Matriz1[0][0][0]"
      ],
      "metadata": {
        "colab": {
          "base_uri": "https://localhost:8080/"
        },
        "id": "9AE2wMWHYM0Q",
        "outputId": "6e08abb5-06cf-4184-a372-6848b7f6dd26"
      },
      "execution_count": null,
      "outputs": [
        {
          "output_type": "execute_result",
          "data": {
            "text/plain": [
              "np.int64(12)"
            ]
          },
          "metadata": {},
          "execution_count": 34
        }
      ]
    },
    {
      "cell_type": "markdown",
      "source": [
        "**Operaciones**"
      ],
      "metadata": {
        "id": "rAKnRmgcY0kJ"
      }
    },
    {
      "cell_type": "code",
      "source": [
        "Vector*0.5"
      ],
      "metadata": {
        "colab": {
          "base_uri": "https://localhost:8080/"
        },
        "id": "ANjxgKJ1Y3vR",
        "outputId": "edac2b9e-9e49-4863-ad55-beaef93a3fa1"
      },
      "execution_count": null,
      "outputs": [
        {
          "output_type": "execute_result",
          "data": {
            "text/plain": [
              "array([ 6. ,  6. , 12. , 12.5, 13. ,  7. ,  7. ,  7.5,  8. ])"
            ]
          },
          "metadata": {},
          "execution_count": 36
        }
      ]
    },
    {
      "cell_type": "code",
      "source": [
        "Vector+10"
      ],
      "metadata": {
        "colab": {
          "base_uri": "https://localhost:8080/"
        },
        "id": "m_iw_ZhIZCUn",
        "outputId": "09572b8a-c0c6-4226-d523-730c6d4c308f"
      },
      "execution_count": null,
      "outputs": [
        {
          "output_type": "execute_result",
          "data": {
            "text/plain": [
              "array([22., 22., 34., 35., 36., 24., 24., 25., 26.])"
            ]
          },
          "metadata": {},
          "execution_count": 37
        }
      ]
    },
    {
      "cell_type": "code",
      "source": [
        "Vector-5"
      ],
      "metadata": {
        "colab": {
          "base_uri": "https://localhost:8080/"
        },
        "id": "N1Iv4TACZGHQ",
        "outputId": "6d11891f-5586-4b1a-c6b8-e49ac782d133"
      },
      "execution_count": null,
      "outputs": [
        {
          "output_type": "execute_result",
          "data": {
            "text/plain": [
              "array([ 7.,  7., 19., 20., 21.,  9.,  9., 10., 11.])"
            ]
          },
          "metadata": {},
          "execution_count": 38
        }
      ]
    },
    {
      "cell_type": "code",
      "source": [
        "Vector/10"
      ],
      "metadata": {
        "colab": {
          "base_uri": "https://localhost:8080/"
        },
        "id": "um89GVZ1ZMVv",
        "outputId": "64371afd-efb1-47ff-82d2-790eac3e858e"
      },
      "execution_count": null,
      "outputs": [
        {
          "output_type": "execute_result",
          "data": {
            "text/plain": [
              "array([1.2, 1.2, 2.4, 2.5, 2.6, 1.4, 1.4, 1.5, 1.6])"
            ]
          },
          "metadata": {},
          "execution_count": 39
        }
      ]
    },
    {
      "cell_type": "code",
      "source": [
        "Matriz"
      ],
      "metadata": {
        "colab": {
          "base_uri": "https://localhost:8080/"
        },
        "id": "xh8pXDYjZRey",
        "outputId": "c21b8a30-3f72-4844-d46c-7e099562453d"
      },
      "execution_count": null,
      "outputs": [
        {
          "output_type": "execute_result",
          "data": {
            "text/plain": [
              "array([[10, 12, 13],\n",
              "       [24, 25, 26],\n",
              "       [37, 38,  0]])"
            ]
          },
          "metadata": {},
          "execution_count": 40
        }
      ]
    },
    {
      "cell_type": "code",
      "source": [
        "Matriz*2"
      ],
      "metadata": {
        "colab": {
          "base_uri": "https://localhost:8080/"
        },
        "id": "o20pS-y7ZT4J",
        "outputId": "d1dbedb8-de38-4733-e999-468b6085f5c0"
      },
      "execution_count": null,
      "outputs": [
        {
          "output_type": "execute_result",
          "data": {
            "text/plain": [
              "array([[20, 24, 26],\n",
              "       [48, 50, 52],\n",
              "       [74, 76,  0]])"
            ]
          },
          "metadata": {},
          "execution_count": 41
        }
      ]
    },
    {
      "cell_type": "code",
      "source": [
        "Matriz-20"
      ],
      "metadata": {
        "colab": {
          "base_uri": "https://localhost:8080/"
        },
        "id": "1yKMr-ZTZXxS",
        "outputId": "92250b5b-0ab8-493f-e31e-f2b560c67d6a"
      },
      "execution_count": null,
      "outputs": [
        {
          "output_type": "execute_result",
          "data": {
            "text/plain": [
              "array([[-10,  -8,  -7],\n",
              "       [  4,   5,   6],\n",
              "       [ 17,  18, -20]])"
            ]
          },
          "metadata": {},
          "execution_count": 42
        }
      ]
    },
    {
      "cell_type": "code",
      "source": [
        "Matriz/10"
      ],
      "metadata": {
        "colab": {
          "base_uri": "https://localhost:8080/"
        },
        "id": "UMJBDjwYZix3",
        "outputId": "3dadd04c-027f-4d48-d053-738dc772491a"
      },
      "execution_count": null,
      "outputs": [
        {
          "output_type": "execute_result",
          "data": {
            "text/plain": [
              "array([[1. , 1.2, 1.3],\n",
              "       [2.4, 2.5, 2.6],\n",
              "       [3.7, 3.8, 0. ]])"
            ]
          },
          "metadata": {},
          "execution_count": 43
        }
      ]
    },
    {
      "cell_type": "code",
      "source": [
        "Matriz1"
      ],
      "metadata": {
        "colab": {
          "base_uri": "https://localhost:8080/"
        },
        "id": "jhCNQCTXZ_T5",
        "outputId": "a1a89619-4f71-42e4-c9c4-eae0ddc7f050"
      },
      "execution_count": null,
      "outputs": [
        {
          "output_type": "execute_result",
          "data": {
            "text/plain": [
              "array([[[12, 13, 15],\n",
              "        [22, 23, 24]],\n",
              "\n",
              "       [[33, 34, 35],\n",
              "        [36, 37, 38]],\n",
              "\n",
              "       [[42, 43, 44],\n",
              "        [45, 46, 47]]])"
            ]
          },
          "metadata": {},
          "execution_count": 44
        }
      ]
    },
    {
      "cell_type": "code",
      "source": [
        "Matriz1*3"
      ],
      "metadata": {
        "colab": {
          "base_uri": "https://localhost:8080/"
        },
        "id": "jmU-F_dlaB5w",
        "outputId": "af5bbd9e-df1b-4896-be0a-9056b3af7979"
      },
      "execution_count": null,
      "outputs": [
        {
          "output_type": "execute_result",
          "data": {
            "text/plain": [
              "array([[[ 36,  39,  45],\n",
              "        [ 66,  69,  72]],\n",
              "\n",
              "       [[ 99, 102, 105],\n",
              "        [108, 111, 114]],\n",
              "\n",
              "       [[126, 129, 132],\n",
              "        [135, 138, 141]]])"
            ]
          },
          "metadata": {},
          "execution_count": 45
        }
      ]
    },
    {
      "cell_type": "code",
      "source": [
        "Matriz+4"
      ],
      "metadata": {
        "colab": {
          "base_uri": "https://localhost:8080/"
        },
        "id": "nZHDpC_uaF4o",
        "outputId": "d6ec77da-1a70-46f1-9786-2425c7f01a5a"
      },
      "execution_count": null,
      "outputs": [
        {
          "output_type": "execute_result",
          "data": {
            "text/plain": [
              "array([[14, 16, 17],\n",
              "       [28, 29, 30],\n",
              "       [41, 42,  4]])"
            ]
          },
          "metadata": {},
          "execution_count": 46
        }
      ]
    },
    {
      "cell_type": "code",
      "source": [
        "Matriz1/10"
      ],
      "metadata": {
        "id": "1qupgy0oaL1S",
        "outputId": "173334b5-d94c-490b-b9b9-f06defa23225",
        "colab": {
          "base_uri": "https://localhost:8080/"
        }
      },
      "execution_count": null,
      "outputs": [
        {
          "output_type": "execute_result",
          "data": {
            "text/plain": [
              "array([[[1.2, 1.3, 1.5],\n",
              "        [2.2, 2.3, 2.4]],\n",
              "\n",
              "       [[3.3, 3.4, 3.5],\n",
              "        [3.6, 3.7, 3.8]],\n",
              "\n",
              "       [[4.2, 4.3, 4.4],\n",
              "        [4.5, 4.6, 4.7]]])"
            ]
          },
          "metadata": {},
          "execution_count": 48
        }
      ]
    },
    {
      "cell_type": "markdown",
      "source": [
        "**Vectores tipo cadena**"
      ],
      "metadata": {
        "id": "97HRZl_Qg_yQ"
      }
    },
    {
      "cell_type": "code",
      "source": [
        "Cadena=np.array([\"Hola\",\"Mundo\"])\n",
        "print(Cadena)"
      ],
      "metadata": {
        "colab": {
          "base_uri": "https://localhost:8080/"
        },
        "id": "bdvif5TCgS1V",
        "outputId": "f199b719-da1e-4e1e-f73a-1176e0661944"
      },
      "execution_count": null,
      "outputs": [
        {
          "output_type": "stream",
          "name": "stdout",
          "text": [
            "['Hola' 'Mundo']\n"
          ]
        }
      ]
    },
    {
      "cell_type": "code",
      "source": [
        "Cadena1=np.array([[\"Manuel\", \"Bogotá\"],\n",
        "                  [\"Ginna\", \"Sopó\"]])\n",
        "print(Cadena1)"
      ],
      "metadata": {
        "colab": {
          "base_uri": "https://localhost:8080/"
        },
        "id": "wMoF6Amqi1n9",
        "outputId": "51dabaec-56a7-4fe2-c697-1c9479f8ce11"
      },
      "execution_count": null,
      "outputs": [
        {
          "output_type": "stream",
          "name": "stdout",
          "text": [
            "[['Manuel' 'Bogotá']\n",
            " ['Ginna' 'Sopó']]\n"
          ]
        }
      ]
    },
    {
      "cell_type": "code",
      "source": [
        "cadena2=np.array([[[\"MANUEL\",\"BOGOTÁ\"],[\"gINNA\", \"SOP0\"]],\n",
        "                  [[\"Venta\", \"Carro\"],[\"Venta\", \"Casa\"]],\n",
        "                  [[\"Arriendo\", \"alto\"],[\"ESTADO\",\"CASADO\"]]])\n",
        "print(cadena2)"
      ],
      "metadata": {
        "colab": {
          "base_uri": "https://localhost:8080/"
        },
        "id": "npfP4q6kjODp",
        "outputId": "3cb437b6-75c1-4299-e215-ed768383b8c4"
      },
      "execution_count": null,
      "outputs": [
        {
          "output_type": "stream",
          "name": "stdout",
          "text": [
            "[[['MANUEL' 'BOGOTÁ']\n",
            "  ['gINNA' 'SOP0']]\n",
            "\n",
            " [['Venta' 'Carro']\n",
            "  ['Venta' 'Casa']]\n",
            "\n",
            " [['Arriendo' 'alto']\n",
            "  ['ESTADO' 'CASADO']]]\n"
          ]
        }
      ]
    },
    {
      "cell_type": "markdown",
      "source": [
        "Otras Operaciones"
      ],
      "metadata": {
        "id": "pMF4RIGmkRM8"
      }
    },
    {
      "cell_type": "code",
      "source": [
        "np.arange(21)\n"
      ],
      "metadata": {
        "colab": {
          "base_uri": "https://localhost:8080/"
        },
        "id": "OO4pHMHnkW0z",
        "outputId": "210b5575-16e3-4986-f5c0-6780335ae499"
      },
      "execution_count": null,
      "outputs": [
        {
          "output_type": "execute_result",
          "data": {
            "text/plain": [
              "array([ 0,  1,  2,  3,  4,  5,  6,  7,  8,  9, 10, 11, 12, 13, 14, 15, 16,\n",
              "       17, 18, 19, 20])"
            ]
          },
          "metadata": {},
          "execution_count": 55
        }
      ]
    },
    {
      "cell_type": "code",
      "source": [
        "np.arange(0,1.01,0.01)"
      ],
      "metadata": {
        "colab": {
          "base_uri": "https://localhost:8080/"
        },
        "id": "XVWlZ4bPlbC7",
        "outputId": "b31d3e0a-5e68-4b78-9f05-d9de504de432"
      },
      "execution_count": null,
      "outputs": [
        {
          "output_type": "execute_result",
          "data": {
            "text/plain": [
              "array([0.  , 0.01, 0.02, 0.03, 0.04, 0.05, 0.06, 0.07, 0.08, 0.09, 0.1 ,\n",
              "       0.11, 0.12, 0.13, 0.14, 0.15, 0.16, 0.17, 0.18, 0.19, 0.2 , 0.21,\n",
              "       0.22, 0.23, 0.24, 0.25, 0.26, 0.27, 0.28, 0.29, 0.3 , 0.31, 0.32,\n",
              "       0.33, 0.34, 0.35, 0.36, 0.37, 0.38, 0.39, 0.4 , 0.41, 0.42, 0.43,\n",
              "       0.44, 0.45, 0.46, 0.47, 0.48, 0.49, 0.5 , 0.51, 0.52, 0.53, 0.54,\n",
              "       0.55, 0.56, 0.57, 0.58, 0.59, 0.6 , 0.61, 0.62, 0.63, 0.64, 0.65,\n",
              "       0.66, 0.67, 0.68, 0.69, 0.7 , 0.71, 0.72, 0.73, 0.74, 0.75, 0.76,\n",
              "       0.77, 0.78, 0.79, 0.8 , 0.81, 0.82, 0.83, 0.84, 0.85, 0.86, 0.87,\n",
              "       0.88, 0.89, 0.9 , 0.91, 0.92, 0.93, 0.94, 0.95, 0.96, 0.97, 0.98,\n",
              "       0.99, 1.  ])"
            ]
          },
          "metadata": {},
          "execution_count": 59
        }
      ]
    },
    {
      "cell_type": "code",
      "source": [
        "np.arange(20,100,5)"
      ],
      "metadata": {
        "colab": {
          "base_uri": "https://localhost:8080/"
        },
        "id": "ivnVANRWl4nz",
        "outputId": "6f2cc285-1c0f-44c9-e487-b1a779f7d13a"
      },
      "execution_count": null,
      "outputs": [
        {
          "output_type": "execute_result",
          "data": {
            "text/plain": [
              "array([20, 25, 30, 35, 40, 45, 50, 55, 60, 65, 70, 75, 80, 85, 90, 95])"
            ]
          },
          "metadata": {},
          "execution_count": 60
        }
      ]
    },
    {
      "cell_type": "code",
      "source": [
        "np.linspace(0,10,11)"
      ],
      "metadata": {
        "colab": {
          "base_uri": "https://localhost:8080/"
        },
        "id": "_WOT41HZmEMs",
        "outputId": "86cb2d36-0a80-484d-cab5-52776ff26b22"
      },
      "execution_count": null,
      "outputs": [
        {
          "output_type": "execute_result",
          "data": {
            "text/plain": [
              "array([ 0.,  1.,  2.,  3.,  4.,  5.,  6.,  7.,  8.,  9., 10.])"
            ]
          },
          "metadata": {},
          "execution_count": 61
        }
      ]
    },
    {
      "cell_type": "code",
      "source": [
        "np.linspace(20,50,40)"
      ],
      "metadata": {
        "colab": {
          "base_uri": "https://localhost:8080/"
        },
        "id": "Mx5JMzs2mfDL",
        "outputId": "71537f90-4e01-4d63-8154-72137025d37d"
      },
      "execution_count": null,
      "outputs": [
        {
          "output_type": "execute_result",
          "data": {
            "text/plain": [
              "array([20.        , 20.76923077, 21.53846154, 22.30769231, 23.07692308,\n",
              "       23.84615385, 24.61538462, 25.38461538, 26.15384615, 26.92307692,\n",
              "       27.69230769, 28.46153846, 29.23076923, 30.        , 30.76923077,\n",
              "       31.53846154, 32.30769231, 33.07692308, 33.84615385, 34.61538462,\n",
              "       35.38461538, 36.15384615, 36.92307692, 37.69230769, 38.46153846,\n",
              "       39.23076923, 40.        , 40.76923077, 41.53846154, 42.30769231,\n",
              "       43.07692308, 43.84615385, 44.61538462, 45.38461538, 46.15384615,\n",
              "       46.92307692, 47.69230769, 48.46153846, 49.23076923, 50.        ])"
            ]
          },
          "metadata": {},
          "execution_count": 62
        }
      ]
    },
    {
      "cell_type": "code",
      "source": [
        "np.ndim(np.linspace(20,50,40))"
      ],
      "metadata": {
        "colab": {
          "base_uri": "https://localhost:8080/"
        },
        "id": "TdIcl0-FnDSH",
        "outputId": "2765a5d1-c931-4406-d90c-97c6ea3e9de2"
      },
      "execution_count": null,
      "outputs": [
        {
          "output_type": "execute_result",
          "data": {
            "text/plain": [
              "1"
            ]
          },
          "metadata": {},
          "execution_count": 69
        }
      ]
    },
    {
      "cell_type": "code",
      "source": [
        "np.shape(np.linspace(20,50,40))"
      ],
      "metadata": {
        "colab": {
          "base_uri": "https://localhost:8080/"
        },
        "id": "3d_kaNiYoJ2r",
        "outputId": "197b7b4a-7644-4c4a-88fa-ef831aed4420"
      },
      "execution_count": null,
      "outputs": [
        {
          "output_type": "execute_result",
          "data": {
            "text/plain": [
              "(40,)"
            ]
          },
          "metadata": {},
          "execution_count": 70
        }
      ]
    },
    {
      "cell_type": "code",
      "source": [
        "Matriz3=np.array([np.arange(10,30), np.arange(20,40)])\n",
        "print(Matriz3)"
      ],
      "metadata": {
        "colab": {
          "base_uri": "https://localhost:8080/"
        },
        "id": "zvqpCNuPoUsl",
        "outputId": "2e3ad993-301d-494c-9d48-449252d47e28"
      },
      "execution_count": null,
      "outputs": [
        {
          "output_type": "stream",
          "name": "stdout",
          "text": [
            "[[10 11 12 13 14 15 16 17 18 19 20 21 22 23 24 25 26 27 28 29]\n",
            " [20 21 22 23 24 25 26 27 28 29 30 31 32 33 34 35 36 37 38 39]]\n"
          ]
        }
      ]
    },
    {
      "cell_type": "code",
      "source": [
        "Matriz4=np.arange(40).reshape(4,10)\n",
        "print(Matriz4)"
      ],
      "metadata": {
        "colab": {
          "base_uri": "https://localhost:8080/"
        },
        "id": "uWscOJgXo51F",
        "outputId": "262cc6d4-a1a8-43fc-fd5a-ec4d739464ff"
      },
      "execution_count": null,
      "outputs": [
        {
          "output_type": "stream",
          "name": "stdout",
          "text": [
            "[[ 0  1  2  3  4  5  6  7  8  9]\n",
            " [10 11 12 13 14 15 16 17 18 19]\n",
            " [20 21 22 23 24 25 26 27 28 29]\n",
            " [30 31 32 33 34 35 36 37 38 39]]\n"
          ]
        }
      ]
    },
    {
      "cell_type": "code",
      "source": [
        "Matriz4=np.arange(40).reshape(8,5)\n",
        "print(Matriz4)"
      ],
      "metadata": {
        "colab": {
          "base_uri": "https://localhost:8080/"
        },
        "id": "AlNRSMDfpsbO",
        "outputId": "5d5a9f4f-9b96-4961-a298-c17166433cae"
      },
      "execution_count": null,
      "outputs": [
        {
          "output_type": "stream",
          "name": "stdout",
          "text": [
            "[[ 0  1  2  3  4]\n",
            " [ 5  6  7  8  9]\n",
            " [10 11 12 13 14]\n",
            " [15 16 17 18 19]\n",
            " [20 21 22 23 24]\n",
            " [25 26 27 28 29]\n",
            " [30 31 32 33 34]\n",
            " [35 36 37 38 39]]\n"
          ]
        }
      ]
    },
    {
      "cell_type": "code",
      "source": [
        "Matriz5=np.linspace(0,100,20).reshape(4,5)\n",
        "print(Matriz5)"
      ],
      "metadata": {
        "colab": {
          "base_uri": "https://localhost:8080/"
        },
        "id": "DpwsdGrAp4n1",
        "outputId": "f08bc1aa-4258-4cff-f875-f6400002395f"
      },
      "execution_count": null,
      "outputs": [
        {
          "output_type": "stream",
          "name": "stdout",
          "text": [
            "[[  0.           5.26315789  10.52631579  15.78947368  21.05263158]\n",
            " [ 26.31578947  31.57894737  36.84210526  42.10526316  47.36842105]\n",
            " [ 52.63157895  57.89473684  63.15789474  68.42105263  73.68421053]\n",
            " [ 78.94736842  84.21052632  89.47368421  94.73684211 100.        ]]\n"
          ]
        }
      ]
    },
    {
      "cell_type": "code",
      "source": [
        "np.max(Matriz5)#matriz"
      ],
      "metadata": {
        "colab": {
          "base_uri": "https://localhost:8080/"
        },
        "id": "wO16AJcTqesb",
        "outputId": "1e9fe432-87e0-4d60-cae5-f53ab580d243"
      },
      "execution_count": null,
      "outputs": [
        {
          "output_type": "execute_result",
          "data": {
            "text/plain": [
              "np.float64(100.0)"
            ]
          },
          "metadata": {},
          "execution_count": 82
        }
      ]
    },
    {
      "cell_type": "code",
      "source": [
        "np.max(Matriz5, axis=0)#columna"
      ],
      "metadata": {
        "colab": {
          "base_uri": "https://localhost:8080/"
        },
        "id": "KIO38cYoqtKt",
        "outputId": "d2d9f208-14dd-4685-aea3-3cf5b64615bf"
      },
      "execution_count": null,
      "outputs": [
        {
          "output_type": "execute_result",
          "data": {
            "text/plain": [
              "array([ 78.94736842,  84.21052632,  89.47368421,  94.73684211,\n",
              "       100.        ])"
            ]
          },
          "metadata": {},
          "execution_count": 83
        }
      ]
    },
    {
      "cell_type": "code",
      "source": [
        "np.max(Matriz5, axis=1)#fila"
      ],
      "metadata": {
        "colab": {
          "base_uri": "https://localhost:8080/"
        },
        "id": "TeQzUP2cq5bd",
        "outputId": "4d61b73a-7389-4926-8472-703c163324bf"
      },
      "execution_count": null,
      "outputs": [
        {
          "output_type": "execute_result",
          "data": {
            "text/plain": [
              "array([ 21.05263158,  47.36842105,  73.68421053, 100.        ])"
            ]
          },
          "metadata": {},
          "execution_count": 84
        }
      ]
    },
    {
      "cell_type": "code",
      "source": [
        "np.min(Matriz5, axis=0)#columna"
      ],
      "metadata": {
        "colab": {
          "base_uri": "https://localhost:8080/"
        },
        "id": "UJrs5p9lr_gs",
        "outputId": "f403c784-42e6-42cb-c860-d574ab55b701"
      },
      "execution_count": null,
      "outputs": [
        {
          "output_type": "execute_result",
          "data": {
            "text/plain": [
              "array([ 0.        ,  5.26315789, 10.52631579, 15.78947368, 21.05263158])"
            ]
          },
          "metadata": {},
          "execution_count": 85
        }
      ]
    },
    {
      "cell_type": "code",
      "source": [
        "np.mean(Matriz5, axis=0)#columna"
      ],
      "metadata": {
        "colab": {
          "base_uri": "https://localhost:8080/"
        },
        "id": "yJb1u9RKsIoj",
        "outputId": "7b9c2fcc-50fc-4204-a900-7f47e428150a"
      },
      "execution_count": null,
      "outputs": [
        {
          "output_type": "execute_result",
          "data": {
            "text/plain": [
              "array([39.47368421, 44.73684211, 50.        , 55.26315789, 60.52631579])"
            ]
          },
          "metadata": {},
          "execution_count": 86
        }
      ]
    },
    {
      "cell_type": "code",
      "source": [
        "np.sum(Matriz5, axis=0)#columna"
      ],
      "metadata": {
        "colab": {
          "base_uri": "https://localhost:8080/"
        },
        "id": "EX3xi9jDsSP-",
        "outputId": "87c00f2f-abef-46dd-93b8-fc711e28ac60"
      },
      "execution_count": null,
      "outputs": [
        {
          "output_type": "execute_result",
          "data": {
            "text/plain": [
              "array([157.89473684, 178.94736842, 200.        , 221.05263158,\n",
              "       242.10526316])"
            ]
          },
          "metadata": {},
          "execution_count": 87
        }
      ]
    },
    {
      "cell_type": "code",
      "source": [
        "#CANTIDAD DE COLUMNAS\n",
        "len(Matriz5.T)#Transpuesta"
      ],
      "metadata": {
        "colab": {
          "base_uri": "https://localhost:8080/"
        },
        "id": "BDomgDlysWar",
        "outputId": "d311b467-0a9d-4efb-c0b4-8e6daa9f36e4"
      },
      "execution_count": null,
      "outputs": [
        {
          "output_type": "execute_result",
          "data": {
            "text/plain": [
              "5"
            ]
          },
          "metadata": {},
          "execution_count": 89
        }
      ]
    },
    {
      "cell_type": "code",
      "source": [
        "#CANTIDAD DE FINAL\n",
        "len(Matriz5)"
      ],
      "metadata": {
        "colab": {
          "base_uri": "https://localhost:8080/"
        },
        "id": "UA3dARUhsv7N",
        "outputId": "a273b27b-7edc-4899-e2d5-d8557d8ab17b"
      },
      "execution_count": null,
      "outputs": [
        {
          "output_type": "execute_result",
          "data": {
            "text/plain": [
              "4"
            ]
          },
          "metadata": {},
          "execution_count": 90
        }
      ]
    },
    {
      "cell_type": "code",
      "source": [
        "print(Matriz5)"
      ],
      "metadata": {
        "colab": {
          "base_uri": "https://localhost:8080/"
        },
        "id": "4ODDYPmws6ZO",
        "outputId": "4fa27c52-e246-43e1-acc0-32bce5486646"
      },
      "execution_count": null,
      "outputs": [
        {
          "output_type": "stream",
          "name": "stdout",
          "text": [
            "[[  0.           5.26315789  10.52631579  15.78947368  21.05263158]\n",
            " [ 26.31578947  31.57894737  36.84210526  42.10526316  47.36842105]\n",
            " [ 52.63157895  57.89473684  63.15789474  68.42105263  73.68421053]\n",
            " [ 78.94736842  84.21052632  89.47368421  94.73684211 100.        ]]\n"
          ]
        }
      ]
    },
    {
      "cell_type": "code",
      "source": [
        "print(Matriz5.T)"
      ],
      "metadata": {
        "colab": {
          "base_uri": "https://localhost:8080/"
        },
        "id": "0h8mP_nvtBKc",
        "outputId": "8021c701-d04e-43ad-8f67-39b7feae35c7"
      },
      "execution_count": null,
      "outputs": [
        {
          "output_type": "stream",
          "name": "stdout",
          "text": [
            "[[  0.          26.31578947  52.63157895  78.94736842]\n",
            " [  5.26315789  31.57894737  57.89473684  84.21052632]\n",
            " [ 10.52631579  36.84210526  63.15789474  89.47368421]\n",
            " [ 15.78947368  42.10526316  68.42105263  94.73684211]\n",
            " [ 21.05263158  47.36842105  73.68421053 100.        ]]\n"
          ]
        }
      ]
    },
    {
      "cell_type": "code",
      "source": [
        "np.hsplit(Matriz5,1)"
      ],
      "metadata": {
        "colab": {
          "base_uri": "https://localhost:8080/"
        },
        "id": "3dxRo0z7tVIF",
        "outputId": "73859c99-2505-4ed8-dd02-1cf3f0fcaa31"
      },
      "execution_count": null,
      "outputs": [
        {
          "output_type": "execute_result",
          "data": {
            "text/plain": [
              "[array([[  0.        ,   5.26315789,  10.52631579,  15.78947368,\n",
              "          21.05263158],\n",
              "        [ 26.31578947,  31.57894737,  36.84210526,  42.10526316,\n",
              "          47.36842105],\n",
              "        [ 52.63157895,  57.89473684,  63.15789474,  68.42105263,\n",
              "          73.68421053],\n",
              "        [ 78.94736842,  84.21052632,  89.47368421,  94.73684211,\n",
              "         100.        ]])]"
            ]
          },
          "metadata": {},
          "execution_count": 119
        }
      ]
    },
    {
      "cell_type": "code",
      "source": [
        "np.vsplit(Matriz5,1)"
      ],
      "metadata": {
        "colab": {
          "base_uri": "https://localhost:8080/"
        },
        "id": "0V0DZ_w3uP5P",
        "outputId": "66007b90-4919-427c-9b5a-6ef0b4a45b4b"
      },
      "execution_count": null,
      "outputs": [
        {
          "output_type": "execute_result",
          "data": {
            "text/plain": [
              "[array([[  0.        ,   5.26315789,  10.52631579,  15.78947368,\n",
              "          21.05263158],\n",
              "        [ 26.31578947,  31.57894737,  36.84210526,  42.10526316,\n",
              "          47.36842105],\n",
              "        [ 52.63157895,  57.89473684,  63.15789474,  68.42105263,\n",
              "          73.68421053],\n",
              "        [ 78.94736842,  84.21052632,  89.47368421,  94.73684211,\n",
              "         100.        ]])]"
            ]
          },
          "metadata": {},
          "execution_count": 121
        }
      ]
    },
    {
      "cell_type": "code",
      "source": [
        "Vector=np.hsplit(Matriz5,5)\n",
        "print(Vector)"
      ],
      "metadata": {
        "colab": {
          "base_uri": "https://localhost:8080/"
        },
        "id": "yNwXXcHGu5jc",
        "outputId": "085d99b4-67e3-428b-d7bb-49ec60a31838"
      },
      "execution_count": null,
      "outputs": [
        {
          "output_type": "stream",
          "name": "stdout",
          "text": [
            "[array([[ 0.        ],\n",
            "       [26.31578947],\n",
            "       [52.63157895],\n",
            "       [78.94736842]]), array([[ 5.26315789],\n",
            "       [31.57894737],\n",
            "       [57.89473684],\n",
            "       [84.21052632]]), array([[10.52631579],\n",
            "       [36.84210526],\n",
            "       [63.15789474],\n",
            "       [89.47368421]]), array([[15.78947368],\n",
            "       [42.10526316],\n",
            "       [68.42105263],\n",
            "       [94.73684211]]), array([[ 21.05263158],\n",
            "       [ 47.36842105],\n",
            "       [ 73.68421053],\n",
            "       [100.        ]])]\n"
          ]
        }
      ]
    },
    {
      "cell_type": "code",
      "source": [
        "Vector[0]"
      ],
      "metadata": {
        "colab": {
          "base_uri": "https://localhost:8080/"
        },
        "id": "4kocL1jOwCXU",
        "outputId": "e2c1968c-d462-479c-bdc2-335608e54801"
      },
      "execution_count": null,
      "outputs": [
        {
          "output_type": "execute_result",
          "data": {
            "text/plain": [
              "array([[ 0.        ],\n",
              "       [26.31578947],\n",
              "       [52.63157895],\n",
              "       [78.94736842]])"
            ]
          },
          "metadata": {},
          "execution_count": 127
        }
      ]
    },
    {
      "cell_type": "code",
      "source": [
        "Vector[1]"
      ],
      "metadata": {
        "colab": {
          "base_uri": "https://localhost:8080/"
        },
        "id": "fxSiUOiqwGge",
        "outputId": "abbcfa1c-aad2-42c0-89b6-2086a99d889e"
      },
      "execution_count": null,
      "outputs": [
        {
          "output_type": "execute_result",
          "data": {
            "text/plain": [
              "array([[ 5.26315789],\n",
              "       [31.57894737],\n",
              "       [57.89473684],\n",
              "       [84.21052632]])"
            ]
          },
          "metadata": {},
          "execution_count": 128
        }
      ]
    },
    {
      "cell_type": "code",
      "source": [
        "Vector[2]"
      ],
      "metadata": {
        "colab": {
          "base_uri": "https://localhost:8080/"
        },
        "id": "k0vDNUEexv61",
        "outputId": "47991ce8-7a29-43de-907a-2e254e32d79e"
      },
      "execution_count": null,
      "outputs": [
        {
          "output_type": "execute_result",
          "data": {
            "text/plain": [
              "array([[10.52631579],\n",
              "       [36.84210526],\n",
              "       [63.15789474],\n",
              "       [89.47368421]])"
            ]
          },
          "metadata": {},
          "execution_count": 130
        }
      ]
    },
    {
      "cell_type": "code",
      "source": [
        "np.concatenate((Vector[0],Vector[1], Vector[3]),axis=0)"
      ],
      "metadata": {
        "colab": {
          "base_uri": "https://localhost:8080/"
        },
        "id": "Bu74AdImwL0k",
        "outputId": "e9ed489d-af01-49f4-9f72-99178d88fedb"
      },
      "execution_count": null,
      "outputs": [
        {
          "output_type": "execute_result",
          "data": {
            "text/plain": [
              "array([[ 0.        ],\n",
              "       [26.31578947],\n",
              "       [52.63157895],\n",
              "       [78.94736842],\n",
              "       [ 5.26315789],\n",
              "       [31.57894737],\n",
              "       [57.89473684],\n",
              "       [84.21052632],\n",
              "       [15.78947368],\n",
              "       [42.10526316],\n",
              "       [68.42105263],\n",
              "       [94.73684211]])"
            ]
          },
          "metadata": {},
          "execution_count": 132
        }
      ]
    },
    {
      "cell_type": "markdown",
      "source": [
        "Operaciones Lógica"
      ],
      "metadata": {
        "id": "QDFTpqtxx-ik"
      }
    },
    {
      "cell_type": "code",
      "source": [
        "a=10\n",
        "b=20\n",
        "a!=b#diferente"
      ],
      "metadata": {
        "colab": {
          "base_uri": "https://localhost:8080/"
        },
        "id": "dE16JK6cyBg3",
        "outputId": "7d87e9ef-47b4-4c1a-b61e-315367a3c09b"
      },
      "execution_count": null,
      "outputs": [
        {
          "output_type": "execute_result",
          "data": {
            "text/plain": [
              "True"
            ]
          },
          "metadata": {},
          "execution_count": 141
        }
      ]
    },
    {
      "cell_type": "code",
      "source": [
        "a<=b# menor e igual"
      ],
      "metadata": {
        "colab": {
          "base_uri": "https://localhost:8080/"
        },
        "id": "AntXbDOoySj8",
        "outputId": "669f90d4-20c9-4135-b54a-3ca8f5749abf"
      },
      "execution_count": null,
      "outputs": [
        {
          "output_type": "execute_result",
          "data": {
            "text/plain": [
              "True"
            ]
          },
          "metadata": {},
          "execution_count": 142
        }
      ]
    },
    {
      "cell_type": "code",
      "source": [
        "a<b# menor que"
      ],
      "metadata": {
        "colab": {
          "base_uri": "https://localhost:8080/"
        },
        "id": "AyPJ5fEByq8V",
        "outputId": "89cf135b-be0d-4ac3-f3f5-372981b06190"
      },
      "execution_count": null,
      "outputs": [
        {
          "output_type": "execute_result",
          "data": {
            "text/plain": [
              "True"
            ]
          },
          "metadata": {},
          "execution_count": 143
        }
      ]
    },
    {
      "cell_type": "code",
      "source": [
        "a>b #mayor que"
      ],
      "metadata": {
        "colab": {
          "base_uri": "https://localhost:8080/"
        },
        "id": "BURMpkm3y6Ns",
        "outputId": "227fd649-53d9-490c-a714-37f43758b356"
      },
      "execution_count": null,
      "outputs": [
        {
          "output_type": "execute_result",
          "data": {
            "text/plain": [
              "False"
            ]
          },
          "metadata": {},
          "execution_count": 144
        }
      ]
    },
    {
      "cell_type": "code",
      "source": [
        "a>=b#mayor e igual"
      ],
      "metadata": {
        "colab": {
          "base_uri": "https://localhost:8080/"
        },
        "id": "XV3EVFxfzCFv",
        "outputId": "642527ce-c183-42ff-e054-42ae47f8a72f"
      },
      "execution_count": null,
      "outputs": [
        {
          "output_type": "execute_result",
          "data": {
            "text/plain": [
              "False"
            ]
          },
          "metadata": {},
          "execution_count": 145
        }
      ]
    },
    {
      "cell_type": "code",
      "source": [
        "a==b #alores iguales"
      ],
      "metadata": {
        "colab": {
          "base_uri": "https://localhost:8080/"
        },
        "id": "8IbYIpPRzOo8",
        "outputId": "8f7a2d4d-296b-4a76-c4bd-1577f8d7977a"
      },
      "execution_count": null,
      "outputs": [
        {
          "output_type": "execute_result",
          "data": {
            "text/plain": [
              "False"
            ]
          },
          "metadata": {},
          "execution_count": 147
        }
      ]
    },
    {
      "cell_type": "code",
      "source": [
        "x1=np.linspace(20,90,50)\n",
        "print(x1)"
      ],
      "metadata": {
        "colab": {
          "base_uri": "https://localhost:8080/"
        },
        "id": "Yj-BPTb-zXb8",
        "outputId": "43fb05a0-2b43-4d87-9c0e-8641762d1fd2"
      },
      "execution_count": null,
      "outputs": [
        {
          "output_type": "stream",
          "name": "stdout",
          "text": [
            "[20.         21.42857143 22.85714286 24.28571429 25.71428571 27.14285714\n",
            " 28.57142857 30.         31.42857143 32.85714286 34.28571429 35.71428571\n",
            " 37.14285714 38.57142857 40.         41.42857143 42.85714286 44.28571429\n",
            " 45.71428571 47.14285714 48.57142857 50.         51.42857143 52.85714286\n",
            " 54.28571429 55.71428571 57.14285714 58.57142857 60.         61.42857143\n",
            " 62.85714286 64.28571429 65.71428571 67.14285714 68.57142857 70.\n",
            " 71.42857143 72.85714286 74.28571429 75.71428571 77.14285714 78.57142857\n",
            " 80.         81.42857143 82.85714286 84.28571429 85.71428571 87.14285714\n",
            " 88.57142857 90.        ]\n"
          ]
        }
      ]
    },
    {
      "cell_type": "code",
      "source": [
        "x1==70"
      ],
      "metadata": {
        "colab": {
          "base_uri": "https://localhost:8080/"
        },
        "id": "sAHZHGrczoAB",
        "outputId": "1c73abd7-f299-4ac4-a0ab-c8cb15db04bc"
      },
      "execution_count": null,
      "outputs": [
        {
          "output_type": "execute_result",
          "data": {
            "text/plain": [
              "array([False, False, False, False, False, False, False, False, False,\n",
              "       False, False, False, False, False, False, False, False, False,\n",
              "       False, False, False, False, False, False, False, False, False,\n",
              "       False, False, False, False, False, False, False, False,  True,\n",
              "       False, False, False, False, False, False, False, False, False,\n",
              "       False, False, False, False, False])"
            ]
          },
          "metadata": {},
          "execution_count": 152
        }
      ]
    },
    {
      "cell_type": "code",
      "source": [
        "x1>=60"
      ],
      "metadata": {
        "colab": {
          "base_uri": "https://localhost:8080/"
        },
        "id": "Vy0tLtK1z1qX",
        "outputId": "f79e68a8-34ac-493a-ac83-34e813876931"
      },
      "execution_count": null,
      "outputs": [
        {
          "output_type": "execute_result",
          "data": {
            "text/plain": [
              "array([False, False, False, False, False, False, False, False, False,\n",
              "       False, False, False, False, False, False, False, False, False,\n",
              "       False, False, False, False, False, False, False, False, False,\n",
              "       False,  True,  True,  True,  True,  True,  True,  True,  True,\n",
              "        True,  True,  True,  True,  True,  True,  True,  True,  True,\n",
              "        True,  True,  True,  True,  True])"
            ]
          },
          "metadata": {},
          "execution_count": 153
        }
      ]
    },
    {
      "cell_type": "code",
      "source": [
        "x2=np.array([np.arange(10)])\n",
        "x2"
      ],
      "metadata": {
        "colab": {
          "base_uri": "https://localhost:8080/"
        },
        "id": "DVIGRyTC0kbK",
        "outputId": "441fa0d3-2714-42e3-b25c-eff91440a670"
      },
      "execution_count": null,
      "outputs": [
        {
          "output_type": "execute_result",
          "data": {
            "text/plain": [
              "array([[0, 1, 2, 3, 4, 5, 6, 7, 8, 9]])"
            ]
          },
          "metadata": {},
          "execution_count": 155
        }
      ]
    },
    {
      "cell_type": "code",
      "source": [
        "np.where(x2==5, 1, 0)"
      ],
      "metadata": {
        "colab": {
          "base_uri": "https://localhost:8080/"
        },
        "id": "RgmM1kJ70vQ0",
        "outputId": "c0080a31-5e36-4448-ab12-778aca74b048"
      },
      "execution_count": null,
      "outputs": [
        {
          "output_type": "execute_result",
          "data": {
            "text/plain": [
              "array([[0, 0, 0, 0, 0, 1, 0, 0, 0, 0]])"
            ]
          },
          "metadata": {},
          "execution_count": 156
        }
      ]
    },
    {
      "cell_type": "code",
      "source": [
        "np.where(x2>=4, \"Ok\", \"No Ok\")"
      ],
      "metadata": {
        "colab": {
          "base_uri": "https://localhost:8080/"
        },
        "id": "xa9_izvF0_Gf",
        "outputId": "c2fe698d-b8c9-47cb-b0c9-610145bc8724"
      },
      "execution_count": null,
      "outputs": [
        {
          "output_type": "execute_result",
          "data": {
            "text/plain": [
              "array([['No Ok', 'No Ok', 'No Ok', 'No Ok', 'Ok', 'Ok', 'Ok', 'Ok', 'Ok',\n",
              "        'Ok']], dtype='<U5')"
            ]
          },
          "metadata": {},
          "execution_count": 158
        }
      ]
    },
    {
      "cell_type": "code",
      "source": [
        "V1=np.arange(45).reshape(3,3,5)\n",
        "print(V1)"
      ],
      "metadata": {
        "colab": {
          "base_uri": "https://localhost:8080/"
        },
        "id": "89R-0ApY1cPc",
        "outputId": "73ed9d02-1787-4800-80f7-ea68bf857a56"
      },
      "execution_count": null,
      "outputs": [
        {
          "output_type": "stream",
          "name": "stdout",
          "text": [
            "[[[ 0  1  2  3  4]\n",
            "  [ 5  6  7  8  9]\n",
            "  [10 11 12 13 14]]\n",
            "\n",
            " [[15 16 17 18 19]\n",
            "  [20 21 22 23 24]\n",
            "  [25 26 27 28 29]]\n",
            "\n",
            " [[30 31 32 33 34]\n",
            "  [35 36 37 38 39]\n",
            "  [40 41 42 43 44]]]\n"
          ]
        }
      ]
    },
    {
      "cell_type": "code",
      "source": [
        "np.where(V1>=20, \"Ok\", \"No Ok\")\n"
      ],
      "metadata": {
        "colab": {
          "base_uri": "https://localhost:8080/"
        },
        "id": "8plOCiJY15qH",
        "outputId": "0480d838-994b-4b8f-bf7b-f495f0299c07"
      },
      "execution_count": null,
      "outputs": [
        {
          "output_type": "execute_result",
          "data": {
            "text/plain": [
              "array([[['No Ok', 'No Ok', 'No Ok', 'No Ok', 'No Ok'],\n",
              "        ['No Ok', 'No Ok', 'No Ok', 'No Ok', 'No Ok'],\n",
              "        ['No Ok', 'No Ok', 'No Ok', 'No Ok', 'No Ok']],\n",
              "\n",
              "       [['No Ok', 'No Ok', 'No Ok', 'No Ok', 'No Ok'],\n",
              "        ['Ok', 'Ok', 'Ok', 'Ok', 'Ok'],\n",
              "        ['Ok', 'Ok', 'Ok', 'Ok', 'Ok']],\n",
              "\n",
              "       [['Ok', 'Ok', 'Ok', 'Ok', 'Ok'],\n",
              "        ['Ok', 'Ok', 'Ok', 'Ok', 'Ok'],\n",
              "        ['Ok', 'Ok', 'Ok', 'Ok', 'Ok']]], dtype='<U5')"
            ]
          },
          "metadata": {},
          "execution_count": 161
        }
      ]
    },
    {
      "cell_type": "markdown",
      "source": [
        "Datos aleatorios"
      ],
      "metadata": {
        "id": "yzdNgqiy3SKu"
      }
    },
    {
      "cell_type": "code",
      "source": [
        "datos=np.random.randint(0,50,40)\n",
        "print(datos)"
      ],
      "metadata": {
        "colab": {
          "base_uri": "https://localhost:8080/"
        },
        "id": "GEDsGzrr3QAu",
        "outputId": "035b0ef8-35fe-4f4e-d77d-1a8b9e0b23b3"
      },
      "execution_count": null,
      "outputs": [
        {
          "output_type": "stream",
          "name": "stdout",
          "text": [
            "[46 16 48 42 32 39 41 32 33 14 49 35 27 48 12  2 45 13 24  2 46 34 16  0\n",
            " 39 20  9 36 44 38 44 41 39 30  1  8 13 47 21 21]\n"
          ]
        }
      ]
    },
    {
      "cell_type": "code",
      "source": [
        "data=np.reshape(datos,(8,5))\n",
        "print(data)"
      ],
      "metadata": {
        "colab": {
          "base_uri": "https://localhost:8080/"
        },
        "id": "9BMOB5pb3x59",
        "outputId": "2807c8ac-d752-4fcc-f199-06d6242f891e"
      },
      "execution_count": null,
      "outputs": [
        {
          "output_type": "stream",
          "name": "stdout",
          "text": [
            "[[46 16 48 42 32]\n",
            " [39 41 32 33 14]\n",
            " [49 35 27 48 12]\n",
            " [ 2 45 13 24  2]\n",
            " [46 34 16  0 39]\n",
            " [20  9 36 44 38]\n",
            " [44 41 39 30  1]\n",
            " [ 8 13 47 21 21]]\n"
          ]
        }
      ]
    },
    {
      "cell_type": "code",
      "source": [
        "data1=np.random.randint(0,100,100).reshape(10,10)\n",
        "print(data1)"
      ],
      "metadata": {
        "colab": {
          "base_uri": "https://localhost:8080/"
        },
        "id": "4Cj_Xhie4QZa",
        "outputId": "79799acc-ad57-43b0-f311-965d8d485b7e"
      },
      "execution_count": null,
      "outputs": [
        {
          "output_type": "stream",
          "name": "stdout",
          "text": [
            "[[52 18 32  2 64 17 89  4  1 84]\n",
            " [81 61 13 55 42 17 91 10 84 85]\n",
            " [96 51  4 85 27 66 42 97  2  4]\n",
            " [29 71 70 57 49 34 43 13 42 45]\n",
            " [74 88  4 38 15 38 91 98 76 87]\n",
            " [17 22 38  7 17 20  8  2 20 57]\n",
            " [93  1 59 48 46 30 82 14 40 27]\n",
            " [59 81  9 92 72 46 60 71 41 67]\n",
            " [23 59 25 43 51 60  4 33 99 45]\n",
            " [35 18 61 32 72  8 57 30 15 73]]\n"
          ]
        }
      ]
    },
    {
      "cell_type": "code",
      "source": [
        "print(np.where(data1>=50, \"Ok\", \"No Ok\"))"
      ],
      "metadata": {
        "colab": {
          "base_uri": "https://localhost:8080/"
        },
        "id": "bD7sUMU94d1q",
        "outputId": "7de12769-f26c-4e7b-d23c-eb90d6beb4ad"
      },
      "execution_count": null,
      "outputs": [
        {
          "output_type": "stream",
          "name": "stdout",
          "text": [
            "[['Ok' 'No Ok' 'No Ok' 'No Ok' 'Ok' 'No Ok' 'Ok' 'No Ok' 'No Ok' 'Ok']\n",
            " ['Ok' 'Ok' 'No Ok' 'Ok' 'No Ok' 'No Ok' 'Ok' 'No Ok' 'Ok' 'Ok']\n",
            " ['Ok' 'Ok' 'No Ok' 'Ok' 'No Ok' 'Ok' 'No Ok' 'Ok' 'No Ok' 'No Ok']\n",
            " ['No Ok' 'Ok' 'Ok' 'Ok' 'No Ok' 'No Ok' 'No Ok' 'No Ok' 'No Ok' 'No Ok']\n",
            " ['Ok' 'Ok' 'No Ok' 'No Ok' 'No Ok' 'No Ok' 'Ok' 'Ok' 'Ok' 'Ok']\n",
            " ['No Ok' 'No Ok' 'No Ok' 'No Ok' 'No Ok' 'No Ok' 'No Ok' 'No Ok' 'No Ok'\n",
            "  'Ok']\n",
            " ['Ok' 'No Ok' 'Ok' 'No Ok' 'No Ok' 'No Ok' 'Ok' 'No Ok' 'No Ok' 'No Ok']\n",
            " ['Ok' 'Ok' 'No Ok' 'Ok' 'Ok' 'No Ok' 'Ok' 'Ok' 'No Ok' 'Ok']\n",
            " ['No Ok' 'Ok' 'No Ok' 'No Ok' 'Ok' 'Ok' 'No Ok' 'No Ok' 'Ok' 'No Ok']\n",
            " ['No Ok' 'No Ok' 'Ok' 'No Ok' 'Ok' 'No Ok' 'Ok' 'No Ok' 'No Ok' 'Ok']]\n"
          ]
        }
      ]
    },
    {
      "cell_type": "code",
      "source": [
        "data3=np.random.rand(100).reshape(20,5)\n",
        "print(data3)"
      ],
      "metadata": {
        "colab": {
          "base_uri": "https://localhost:8080/"
        },
        "id": "eVK9tsUL4x5e",
        "outputId": "c84d5ef5-2788-4dcc-9cae-eb0a8efd5b50"
      },
      "execution_count": null,
      "outputs": [
        {
          "output_type": "stream",
          "name": "stdout",
          "text": [
            "[[0.77275933 0.68925522 0.70384541 0.42022581 0.32819837]\n",
            " [0.73341398 0.59572563 0.85319181 0.48356011 0.08289927]\n",
            " [0.58705667 0.89438666 0.21714078 0.15922259 0.81750629]\n",
            " [0.95225109 0.59142136 0.38051838 0.44773831 0.7786816 ]\n",
            " [0.21727254 0.62262628 0.02272979 0.63109355 0.44293121]\n",
            " [0.76692831 0.83139857 0.89234025 0.70606292 0.22858144]\n",
            " [0.80901595 0.72927081 0.73574091 0.17904043 0.80801305]\n",
            " [0.08962831 0.46414333 0.34068857 0.67787901 0.08423826]\n",
            " [0.01065901 0.37412107 0.43637837 0.30191951 0.18643642]\n",
            " [0.08459319 0.41940441 0.77329309 0.62754916 0.75678673]\n",
            " [0.41880552 0.0596547  0.15897755 0.87414191 0.84071485]\n",
            " [0.76051316 0.62716498 0.19766925 0.02272849 0.79778732]\n",
            " [0.09725355 0.18828508 0.05964153 0.97006315 0.26624026]\n",
            " [0.35574515 0.55425327 0.22641263 0.68781025 0.21524603]\n",
            " [0.77541482 0.58409455 0.40486376 0.80316159 0.55937178]\n",
            " [0.4129939  0.45590413 0.50140872 0.98469448 0.83030358]\n",
            " [0.90664326 0.55079582 0.69447956 0.06777817 0.48837398]\n",
            " [0.4469106  0.41447564 0.55832076 0.53106985 0.22684591]\n",
            " [0.59225588 0.17148105 0.64227256 0.62875265 0.49019336]\n",
            " [0.8294006  0.24540027 0.39208329 0.35656721 0.35120773]]\n"
          ]
        }
      ]
    }
  ]
}